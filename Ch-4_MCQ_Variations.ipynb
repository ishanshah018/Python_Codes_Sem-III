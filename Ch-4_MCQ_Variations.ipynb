{
 "cells": [
  {
   "cell_type": "code",
   "execution_count": 3,
   "id": "c5d36dbe-ce57-4e3a-84be-3a3c17e49118",
   "metadata": {},
   "outputs": [
    {
     "name": "stdout",
     "output_type": "stream",
     "text": [
      "6/4\n",
      "str1\n"
     ]
    }
   ],
   "source": [
    "str1=\"6/4\"\n",
    "print(str1)\n",
    "print(\"str1\")"
   ]
  },
  {
   "cell_type": "code",
   "execution_count": 7,
   "id": "e9f41fdb-5594-464f-b52e-b772bbe03c77",
   "metadata": {},
   "outputs": [
    {
     "name": "stdout",
     "output_type": "stream",
     "text": [
      "Aryan\n"
     ]
    }
   ],
   "source": [
    "str1=\"Vishv,Aryan,Devarsh\"\n",
    "print(str1[-13:-8])"
   ]
  },
  {
   "cell_type": "code",
   "execution_count": 9,
   "id": "23756269-6d19-4b07-99db-87d178a05a33",
   "metadata": {},
   "outputs": [
    {
     "data": {
      "text/plain": [
       "'cdef'"
      ]
     },
     "execution_count": 9,
     "metadata": {},
     "output_type": "execute_result"
    }
   ],
   "source": [
    " \"abcdef\"[2:8]"
   ]
  },
  {
   "cell_type": "code",
   "execution_count": 26,
   "id": "62332a9b-dd47-4a3f-8d9f-af9a4e7a34c8",
   "metadata": {},
   "outputs": [
    {
     "name": "stdout",
     "output_type": "stream",
     "text": [
      "newline\n"
     ]
    }
   ],
   "source": [
    "print('new'  'line')"
   ]
  },
  {
   "cell_type": "code",
   "execution_count": 3,
   "id": "bdc2b7d8-20d6-472b-b6bd-bead27c5f2de",
   "metadata": {},
   "outputs": [
    {
     "name": "stdout",
     "output_type": "stream",
     "text": [
      "abcd\n"
     ]
    }
   ],
   "source": [
    " x = 'abcd'\n",
    " x.upper()\n",
    " print(x)"
   ]
  },
  {
   "cell_type": "code",
   "execution_count": 7,
   "id": "60eca244-cf12-43dd-becc-8a65c5a892c8",
   "metadata": {},
   "outputs": [
    {
     "name": "stdout",
     "output_type": "stream",
     "text": [
      "ABCD\n"
     ]
    }
   ],
   "source": [
    "x = 'abcd'\n",
    "p=x.upper() #We have to store in some variable original sting would not be affected.\n",
    "print(p)"
   ]
  },
  {
   "cell_type": "code",
   "execution_count": 19,
   "id": "15e11a72-60f6-4d01-a71e-80c15494f094",
   "metadata": {},
   "outputs": [
    {
     "data": {
      "text/plain": [
       "tuple"
      ]
     },
     "execution_count": 19,
     "metadata": {},
     "output_type": "execute_result"
    }
   ],
   "source": [
    "s=(1,2,3)\n",
    "type(s)"
   ]
  },
  {
   "cell_type": "code",
   "execution_count": 21,
   "id": "73c58b16-a267-4032-b39b-0947c6910ad0",
   "metadata": {},
   "outputs": [
    {
     "data": {
      "text/plain": [
       "'CheckCheckCheck'"
      ]
     },
     "execution_count": 21,
     "metadata": {},
     "output_type": "execute_result"
    }
   ],
   "source": [
    " a=(\"Check\")*3\n",
    " a"
   ]
  },
  {
   "cell_type": "code",
   "execution_count": 29,
   "id": "ab1581b8-090e-4670-ba3a-42e58d2164a2",
   "metadata": {},
   "outputs": [
    {
     "data": {
      "text/plain": [
       "12"
      ]
     },
     "execution_count": 29,
     "metadata": {},
     "output_type": "execute_result"
    }
   ],
   "source": [
    "a=(2,3,4)\n",
    "sum(a,3)"
   ]
  },
  {
   "cell_type": "code",
   "execution_count": 31,
   "id": "91c4560d-bc60-4389-8d4d-a08c1568ce78",
   "metadata": {},
   "outputs": [
    {
     "data": {
      "text/plain": [
       "5"
      ]
     },
     "execution_count": 31,
     "metadata": {},
     "output_type": "execute_result"
    }
   ],
   "source": [
    "s=[]\n",
    "sum(s,5)"
   ]
  },
  {
   "cell_type": "code",
   "execution_count": 33,
   "id": "8b9c47da-0de1-47ea-ba35-ce813257249b",
   "metadata": {},
   "outputs": [
    {
     "data": {
      "text/plain": [
       "2"
      ]
     },
     "execution_count": 33,
     "metadata": {},
     "output_type": "execute_result"
    }
   ],
   "source": [
    "s=[1,2]\n",
    "sum(s,-1)"
   ]
  },
  {
   "cell_type": "code",
   "execution_count": 37,
   "id": "67fcc901-7ed7-4bce-a4bb-a80e64f5b598",
   "metadata": {},
   "outputs": [
    {
     "name": "stdout",
     "output_type": "stream",
     "text": [
      "slice(0, 2, None)\n"
     ]
    },
    {
     "data": {
      "text/plain": [
       "(0, 1)"
      ]
     },
     "execution_count": 37,
     "metadata": {},
     "output_type": "execute_result"
    }
   ],
   "source": [
    "# Slicing by slice() method\n",
    "a=(0,1,2,3,4)\n",
    "b=slice(0,2)\n",
    "print(b)\n",
    "a[b]"
   ]
  },
  {
   "cell_type": "code",
   "execution_count": 39,
   "id": "72f9c3a9-6e7d-4c8f-98df-6aa80f6265c1",
   "metadata": {},
   "outputs": [
    {
     "data": {
      "text/plain": [
       "(0, 1)"
      ]
     },
     "execution_count": 39,
     "metadata": {},
     "output_type": "execute_result"
    }
   ],
   "source": [
    "# Slicing without slice method\n",
    "a=(0,1,2,3,4)\n",
    "a[0:2]"
   ]
  },
  {
   "cell_type": "code",
   "execution_count": 47,
   "id": "6ab5c046-df3f-47fc-a875-2713d5a8e6c2",
   "metadata": {},
   "outputs": [
    {
     "name": "stdout",
     "output_type": "stream",
     "text": [
      "('annie',)\n"
     ]
    }
   ],
   "source": [
    "tupl=(\"annie\",\"hena\",\"sid\")\n",
    "print(tupl[-3:1])"
   ]
  },
  {
   "cell_type": "code",
   "execution_count": 57,
   "id": "6d0aabb6-8781-4f64-818e-f40dfcf6eeae",
   "metadata": {},
   "outputs": [
    {
     "ename": "AttributeError",
     "evalue": "'tuple' object has no attribute 'sort'",
     "output_type": "error",
     "traceback": [
      "\u001b[1;31m---------------------------------------------------------------------------\u001b[0m",
      "\u001b[1;31mAttributeError\u001b[0m                            Traceback (most recent call last)",
      "Cell \u001b[1;32mIn[57], line 2\u001b[0m\n\u001b[0;32m      1\u001b[0m tupl\u001b[38;5;241m=\u001b[39m(\u001b[38;5;241m5\u001b[39m,\u001b[38;5;241m2\u001b[39m,\u001b[38;5;241m7\u001b[39m,\u001b[38;5;241m0\u001b[39m,\u001b[38;5;241m3\u001b[39m)\n\u001b[1;32m----> 2\u001b[0m tupl\u001b[38;5;241m.\u001b[39msort()\n",
      "\u001b[1;31mAttributeError\u001b[0m: 'tuple' object has no attribute 'sort'"
     ]
    }
   ],
   "source": [
    "tupl=(5,2,7,0,3)\n",
    "tupl.sort()\n",
    "# Tuple doesnt have sort() function"
   ]
  },
  {
   "cell_type": "code",
   "execution_count": 59,
   "id": "240f64e0-2f8b-4d55-a25b-c3d5e2332e8a",
   "metadata": {},
   "outputs": [
    {
     "name": "stdout",
     "output_type": "stream",
     "text": [
      "([2, 1], 'abc', 0, 9)\n"
     ]
    }
   ],
   "source": [
    "tupl=([2,3],\"abc\",0,9)\n",
    "tupl[0][1]=1\n",
    "print(tupl)\n",
    "# You modify the list by assigning 1 to tupl[0][1], which changes the list to [2, 1]."
   ]
  },
  {
   "cell_type": "code",
   "execution_count": 66,
   "id": "1e9e9f4d-0793-4ec5-9e35-a42b525db6ee",
   "metadata": {},
   "outputs": [
    {
     "ename": "TypeError",
     "evalue": "'tuple' object does not support item assignment",
     "output_type": "error",
     "traceback": [
      "\u001b[1;31m---------------------------------------------------------------------------\u001b[0m",
      "\u001b[1;31mTypeError\u001b[0m                                 Traceback (most recent call last)",
      "Cell \u001b[1;32mIn[66], line 2\u001b[0m\n\u001b[0;32m      1\u001b[0m tupl\u001b[38;5;241m=\u001b[39m([\u001b[38;5;241m2\u001b[39m,\u001b[38;5;241m3\u001b[39m],\u001b[38;5;124m\"\u001b[39m\u001b[38;5;124mabc\u001b[39m\u001b[38;5;124m\"\u001b[39m,\u001b[38;5;241m0\u001b[39m,\u001b[38;5;241m9\u001b[39m)\n\u001b[1;32m----> 2\u001b[0m tupl[\u001b[38;5;241m0\u001b[39m]\u001b[38;5;241m=\u001b[39m[\u001b[38;5;241m5\u001b[39m,\u001b[38;5;241m6\u001b[39m]\n\u001b[0;32m      3\u001b[0m \u001b[38;5;28mprint\u001b[39m(tupl)\n",
      "\u001b[1;31mTypeError\u001b[0m: 'tuple' object does not support item assignment"
     ]
    }
   ],
   "source": [
    "tupl=([2,3],\"abc\",0,9)\n",
    "tupl[0]=[5,6]\n",
    "print(tupl)\n",
    "# In this case, trying to replace the entire list [2, 3] inside the tuple with a new list [5, 6]\n",
    "# would raise a TypeError, because you cannot modify the tuple itself."
   ]
  },
  {
   "cell_type": "code",
   "execution_count": 68,
   "id": "a246376c-594c-4fa1-96dd-b4f58e16e92d",
   "metadata": {},
   "outputs": [
    {
     "name": "stdout",
     "output_type": "stream",
     "text": [
      "(5, 3, 1, 9)\n"
     ]
    }
   ],
   "source": [
    "tupl=(5,3,1,9,0) \n",
    "print(tupl[:-1])"
   ]
  },
  {
   "cell_type": "code",
   "execution_count": 80,
   "id": "5ff6d171-0754-4659-9baa-cbf808634f7a",
   "metadata": {},
   "outputs": [
    {
     "data": {
      "text/plain": [
       "'1470'"
      ]
     },
     "execution_count": 80,
     "metadata": {},
     "output_type": "execute_result"
    }
   ],
   "source": [
    "s=\"1234567890\"\n",
    "s[::3]"
   ]
  },
  {
   "cell_type": "code",
   "execution_count": 106,
   "id": "ae644e22-9a63-4657-a357-4ea4c207ef11",
   "metadata": {},
   "outputs": [
    {
     "name": "stdout",
     "output_type": "stream",
     "text": [
      "8340824680\n"
     ]
    }
   ],
   "source": [
    " S =\"1234567890\"\n",
    " S =S[-3]+S[2:4]+S[-2:-5]+S[ : -4:-2]+S[1: :2]\n",
    "print(S)"
   ]
  },
  {
   "cell_type": "code",
   "execution_count": 112,
   "id": "33973725-7874-45cb-a297-65856241ab01",
   "metadata": {},
   "outputs": [
    {
     "name": "stdout",
     "output_type": "stream",
     "text": [
      "\n"
     ]
    }
   ],
   "source": [
    "s=\"1234567890\"\n",
    "print(s[-2:-5:])\n",
    "# No Output"
   ]
  },
  {
   "cell_type": "code",
   "execution_count": 120,
   "id": "8e64d5aa-892e-4e98-8a84-e2d38597e5fe",
   "metadata": {},
   "outputs": [
    {
     "name": "stdout",
     "output_type": "stream",
     "text": [
      "LLAB\n"
     ]
    }
   ],
   "source": [
    " s = \"ball\"\n",
    " r = \"\"\n",
    " for i in s:\n",
    "    r = i.upper()+r\n",
    " print(r)"
   ]
  },
  {
   "cell_type": "code",
   "execution_count": 122,
   "id": "58d92534-34d5-4246-8517-301b38239fe6",
   "metadata": {},
   "outputs": [
    {
     "name": "stdout",
     "output_type": "stream",
     "text": [
      "['A', 'B', 'C#D#E']\n"
     ]
    }
   ],
   "source": [
    "print(\"A#B#C#D#E\".split(\"#\",2))\n",
    "# Delimiter: \"#\" (splitting occurs at every #)\n",
    "# maxsplit Parameter: 2 (maximum 2 splits)"
   ]
  },
  {
   "cell_type": "code",
   "execution_count": 124,
   "id": "e607a206-c5b4-4a59-a18d-8f6ecb5b356a",
   "metadata": {},
   "outputs": [
    {
     "name": "stdout",
     "output_type": "stream",
     "text": [
      "pto"
     ]
    }
   ],
   "source": [
    " for i in range (len(\"python\"),12,2):\n",
    "    print(\"python\"[i-6],end=\"\")"
   ]
  },
  {
   "cell_type": "code",
   "execution_count": 126,
   "id": "4d0eba1b-a41c-43c2-a66b-0d537792ab67",
   "metadata": {},
   "outputs": [
    {
     "data": {
      "text/plain": [
       "'t'"
      ]
     },
     "execution_count": 126,
     "metadata": {},
     "output_type": "execute_result"
    }
   ],
   "source": [
    "\"python\"[2]"
   ]
  },
  {
   "cell_type": "code",
   "execution_count": 1,
   "id": "03c24283-225a-4a23-a328-d99d6decd437",
   "metadata": {},
   "outputs": [
    {
     "name": "stdout",
     "output_type": "stream",
     "text": [
      "\n",
      "aa\n"
     ]
    }
   ],
   "source": [
    "s=\"aa\"\n",
    "p=s.strip(\"a\")\n",
    "print(p)  # Blank Output\n",
    "print(s)"
   ]
  },
  {
   "cell_type": "code",
   "execution_count": 5,
   "id": "b24ef69b-8a74-4384-9126-6514c26bbac0",
   "metadata": {},
   "outputs": [
    {
     "name": "stdout",
     "output_type": "stream",
     "text": [
      "23451\n"
     ]
    }
   ],
   "source": [
    "shift=1\n",
    "n=12345\n",
    "s=str(n)\n",
    "x=s[shift:]+s[:shift]\n",
    "print(x)"
   ]
  },
  {
   "cell_type": "code",
   "execution_count": null,
   "id": "e401be8f-e630-4c33-9dcc-e64d90c5c4f2",
   "metadata": {},
   "outputs": [],
   "source": []
  }
 ],
 "metadata": {
  "kernelspec": {
   "display_name": "Python 3 (ipykernel)",
   "language": "python",
   "name": "python3"
  },
  "language_info": {
   "codemirror_mode": {
    "name": "ipython",
    "version": 3
   },
   "file_extension": ".py",
   "mimetype": "text/x-python",
   "name": "python",
   "nbconvert_exporter": "python",
   "pygments_lexer": "ipython3",
   "version": "3.12.4"
  }
 },
 "nbformat": 4,
 "nbformat_minor": 5
}
